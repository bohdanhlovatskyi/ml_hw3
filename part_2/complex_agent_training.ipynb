{
 "cells": [
  {
   "cell_type": "code",
   "execution_count": 1,
   "metadata": {},
   "outputs": [
    {
     "name": "stderr",
     "output_type": "stream",
     "text": [
      "/Library/Frameworks/Python.framework/Versions/3.8/lib/python3.8/site-packages/scipy/__init__.py:146: UserWarning: A NumPy version >=1.16.5 and <1.23.0 is required for this version of SciPy (detected version 1.24.3\n",
      "  warnings.warn(f\"A NumPy version >={np_minversion} and <{np_maxversion}\"\n"
     ]
    }
   ],
   "source": [
    "import os\n",
    "import pickle\n",
    "import numpy as np\n",
    "import pandas as pd\n",
    "import matplotlib.pyplot as plt\n",
    "%matplotlib inline\n",
    "\n",
    "from sales_predictor import SalesPredictor\n",
    "from complex_market import MarketEnv\n",
    "from trainer import train\n",
    "\n",
    "plt.rcParams['figure.figsize'] = [14, 8]"
   ]
  },
  {
   "cell_type": "code",
   "execution_count": 2,
   "metadata": {},
   "outputs": [],
   "source": [
    "import random\n",
    "random.seed(0)\n",
    "np.random.seed(0)"
   ]
  },
  {
   "cell_type": "code",
   "execution_count": 3,
   "metadata": {},
   "outputs": [],
   "source": [
    "class SalesPredictor:\n",
    "    def __init__(self, period, residuals_model):\n",
    "        self.period = period\n",
    "        self.residuals_model = residuals_model\n",
    "    \n",
    "    def fit(self, prices, sales):\n",
    "        decomposition = seasonal_decompose(sales, model='additive', period=self.period)\n",
    "        self.seasonal, trend, res = decomposition.seasonal, decomposition.trend, decomposition.resid\n",
    "        self.first_week = weeks_from_date(self.seasonal.index)[0]\n",
    "        \n",
    "        trend = trend[~trend.isna()]\n",
    "        # self._fit_trend(np.arange(trend.shape[0]), trend)\n",
    "        \n",
    "        res = res[~res.isna()]\n",
    "        prices = prices.loc[res.index]\n",
    "        \n",
    "        self.residuals_model.fit(\n",
    "            pd.DataFrame(\n",
    "                data={\n",
    "                    \"prices\": prices.reshape(-1),\n",
    "                    \"week\": weeks_from_date(prices.index).reshape(-1)\n",
    "            }),\n",
    "            (res + trend).to_numpy().reshape(-1, 1)\n",
    "        )\n",
    "\n",
    "    # def _fit_trend(self, x, y):\n",
    "    #     slope, intercept = np.polyfit(x, y, deg=1)\n",
    "    #     self.trend_slope = slope\n",
    "    #     self.trend_intercept = intercept\n",
    "    \n",
    "    def _predict_array(self, week, prices, verbose: bool = False):\n",
    "        seasonal_pred = self.seasonal[(week - self.first_week) % 53]\n",
    "        # pred_trend = self.trend_slope * week + self.trend_intercept\n",
    "        \n",
    "        pred_res = self.residuals_model.predict(\n",
    "            pd.DataFrame(data={\n",
    "                    \"prices\": prices.reshape(-1), \n",
    "                    \"week\": week.reshape(-1), \n",
    "            }))\n",
    "        \n",
    "        if pred_res.ndim > 1:\n",
    "            pred_res = pred_res.squeeze(1)\n",
    "            \n",
    "        # if verbose:\n",
    "        #     fig, ax = plt.subplots(3, 1, figsize=(25, 6))\n",
    "        #     ax[0].plot(prices.index, seasonal_pred)\n",
    "        #     ax[1].plot(prices.index, pred_trend)\n",
    "        #     ax[2].plot(prices.index, pred_res)\n",
    "        #     plt.show()\n",
    "        \n",
    "        # return seasonal_pred + pred_trend + pred_res\n",
    "        return seasonal_pred + pred_res\n",
    "    \n",
    "    def predict(self, week, prices, verbose: bool = False):\n",
    "        if not isinstance(week, np.ndarray) or not isinstance(prices, np.ndarray):\n",
    "            sales_pred = self._predict_array(np.array([week]), np.array([prices]), verbose)\n",
    "            return sales_pred[0]\n",
    "        return self._predict_array(week, prices, verbose)\n"
   ]
  },
  {
   "cell_type": "markdown",
   "metadata": {},
   "source": [
    "### Build Environment\n"
   ]
  },
  {
   "cell_type": "markdown",
   "metadata": {},
   "source": [
    "Load forecasting model."
   ]
  },
  {
   "cell_type": "code",
   "execution_count": 4,
   "metadata": {},
   "outputs": [],
   "source": [
    "model_path = os.path.join(\"data\", \"sales_model.pkl\")\n",
    "sales_predictor = pickle.load(open(model_path, \"rb\"))"
   ]
  },
  {
   "cell_type": "code",
   "execution_count": 5,
   "metadata": {},
   "outputs": [],
   "source": [
    "prime_cost = 100\n",
    "min_price, max_price = prime_cost, prime_cost * 6"
   ]
  },
  {
   "cell_type": "code",
   "execution_count": 6,
   "metadata": {},
   "outputs": [],
   "source": [
    "env = MarketEnv(sales_predictor, prime_cost)"
   ]
  },
  {
   "cell_type": "markdown",
   "metadata": {},
   "source": [
    "### Train Agent"
   ]
  },
  {
   "cell_type": "markdown",
   "metadata": {},
   "source": [
    "Tune hyperparameters in order to maximize agent's cummulative reward."
   ]
  },
  {
   "cell_type": "code",
   "execution_count": 7,
   "metadata": {},
   "outputs": [],
   "source": [
    "class MarketAgent:\n",
    "    def __init__(self, min_price, max_price, bins_number, learning_rate=0.1, discount_factor=0.96,\n",
    "                 exploration_rate=0.98, exploration_decay_rate=0.99, seasonality_period: int = 52):\n",
    "        \n",
    "        self.learning_rate = learning_rate\n",
    "        self.min_price = min_price\n",
    "        self.max_price = max_price\n",
    "        self.discount_factor = discount_factor\n",
    "        self.exploration_rate = exploration_rate\n",
    "        self.exploration_decay_rate = exploration_decay_rate\n",
    "        self.action_bins_number = bins_number\n",
    "        \n",
    "        self.state = None\n",
    "        self.action = None\n",
    "        \n",
    "        self.seasonality_period = seasonality_period\n",
    "        self.bins = np.linspace(self.min_price, self.max_price, self.action_bins_number)\n",
    "        # store previous actions as well\n",
    "        self.q = np.zeros((self.action_bins_number * self.seasonality_period, bins_number))\n",
    "        \n",
    "    def state_from_observation(self, obervation):\n",
    "        week, prev_price = obervation\n",
    "        if prev_price == None:\n",
    "            prev_price = (self.max_price + self.min_price) // 2\n",
    "            \n",
    "        prev_price = np.digitize(prev_price, self.bins)\n",
    "        state = (week % self.seasonality_period) * self.action_bins_number + prev_price\n",
    "        \n",
    "        return state\n",
    "        \n",
    "    def begin_episode(self, observation):\n",
    "        self.state = self.state_from_observation(observation)\n",
    "        self.exploration_rate *= self.exploration_decay_rate\n",
    "        enable_exploration = (1 - self.exploration_rate) <= np.random.uniform(0, 1)\n",
    "        if enable_exploration:\n",
    "            self.action = np.random.randint(0, self.action_bins_number)\n",
    "        else:\n",
    "            self.action = np.argmax(self.q[self.state])\n",
    "            \n",
    "        return self.bins[self.action]\n",
    "    \n",
    "    def act(self, observation, reward, done):\n",
    "        next_state = self.state_from_observation(observation)\n",
    "    \n",
    "        self.q[self.state, self.action] = (1 - self.learning_rate) * self.q[self.state, self.action] + \\\n",
    "                                          self.learning_rate * (reward + self.discount_factor * np.max(self.q[next_state]))\n",
    "\n",
    "        enable_exploration = (1 - self.exploration_rate) <= np.random.uniform(0, 1)\n",
    "        if enable_exploration:\n",
    "            next_action = np.random.randint(0, self.action_bins_number)\n",
    "        else:\n",
    "            next_action = np.argmax(self.q[next_state])\n",
    "            \n",
    "        self.state = next_state\n",
    "        self.action = next_action\n",
    "\n",
    "        return self.bins[next_action]\n",
    "    \n",
    "    def get_optimal_action(self, observation):\n",
    "        self.state = self.state_from_observation(observation)\n",
    "        return self.bins[np.argmax(self.q[self.state])]"
   ]
  },
  {
   "cell_type": "code",
   "execution_count": 28,
   "metadata": {},
   "outputs": [],
   "source": [
    "learning_rate=0.1\n",
    "discount_factor=0.99\n",
    "exploration_rate=0.96\n",
    "exploration_decay_rate=0.98\n",
    "bins_number=100\n",
    "episodes=500"
   ]
  },
  {
   "cell_type": "code",
   "execution_count": 29,
   "metadata": {},
   "outputs": [],
   "source": [
    "rl_agent = MarketAgent(min_price, max_price, bins_number, learning_rate, discount_factor, exploration_rate,\n",
    "                       exploration_decay_rate)"
   ]
  },
  {
   "cell_type": "code",
   "execution_count": 30,
   "metadata": {},
   "outputs": [
    {
     "name": "stdout",
     "output_type": "stream",
     "text": [
      "Episode 0; Mean reward = 86548.75390236492\n",
      "Episode 50; Mean reward = 83099.69844340923\n",
      "Episode 100; Mean reward = 89629.51602672969\n",
      "Episode 150; Mean reward = 87700.78661605337\n",
      "Episode 200; Mean reward = 90410.8777750346\n",
      "Episode 250; Mean reward = 90410.8777750346\n",
      "Episode 300; Mean reward = 90410.8777750346\n",
      "Episode 350; Mean reward = 90410.8777750346\n",
      "Episode 400; Mean reward = 90410.8777750346\n",
      "Episode 450; Mean reward = 90410.8777750346\n"
     ]
    }
   ],
   "source": [
    "rl_rewards = train(env, rl_agent, episodes, print_every=50)"
   ]
  },
  {
   "cell_type": "code",
   "execution_count": 31,
   "metadata": {},
   "outputs": [
    {
     "data": {
      "text/plain": [
       "Text(0, 0.5, 'Cummulative Reward')"
      ]
     },
     "execution_count": 31,
     "metadata": {},
     "output_type": "execute_result"
    },
    {
     "data": {
      "image/png": "[encoded data removed]",
      "text/plain": [
       "<Figure size 1008x576 with 1 Axes>"
      ]
     },
     "metadata": {
      "needs_background": "light"
     },
     "output_type": "display_data"
    }
   ],
   "source": [
    "plt.plot(np.arange(1, episodes + 1), rl_rewards, label=\"RL Agent\")\n",
    "plt.legend()\n",
    "plt.xlabel(\"Episode\")\n",
    "plt.ylabel(\"Cummulative Reward\")"
   ]
  },
  {
   "cell_type": "markdown",
   "metadata": {},
   "source": [
    "### RL vs Greedy strategy"
   ]
  },
  {
   "cell_type": "markdown",
   "metadata": {},
   "source": [
    "Implement greedy agent, which exploits optimal 1-step reward maximization startegy. It can be find analytically by finding an extremum of a reward (profit) function."
   ]
  },
  {
   "cell_type": "code",
   "execution_count": 32,
   "metadata": {},
   "outputs": [],
   "source": [
    "class GreedyAgent:\n",
    "    def __init__(self, sales_predictor, prime_cost):\n",
    "        self.sales_predictor = sales_predictor\n",
    "        self.prime_cost = prime_cost\n",
    "    \n",
    "    def get_optimal_action(self, observation):\n",
    "        t = observation[0]\n",
    "        s = self.sales_predictor.seasonal\n",
    "        prices_c, week_c = self.sales_predictor.residuals_model.coef_[0]\n",
    "        intercept = self.sales_predictor.residuals_model.intercept_\n",
    "    \n",
    "        p_opt = - (intercept - prices_c * self.prime_cost - week_c * t + s[t]) / (2 * prices_c)\n",
    "    \n",
    "        return max(min_price, min(p_opt.item(), max_price))\n"
   ]
  },
  {
   "cell_type": "code",
   "execution_count": 33,
   "metadata": {},
   "outputs": [],
   "source": [
    "def validate(env, agent):\n",
    "    reward_sum = 0\n",
    "\n",
    "    observation = env.reset()\n",
    "    action = agent.get_optimal_action(observation)\n",
    "    done = False\n",
    "\n",
    "    while True:\n",
    "        observation, reward, done = env.step(action)\n",
    "        reward_sum += reward\n",
    "        \n",
    "        if done:\n",
    "            break\n",
    "            \n",
    "        action = agent.get_optimal_action(observation)\n",
    "\n",
    "    return reward_sum"
   ]
  },
  {
   "cell_type": "code",
   "execution_count": 34,
   "metadata": {},
   "outputs": [],
   "source": [
    "greedy_agent = GreedyAgent(sales_predictor, prime_cost)"
   ]
  },
  {
   "cell_type": "markdown",
   "metadata": {},
   "source": [
    "RL agent should outperform greedy agent. Can you explain why?"
   ]
  },
  {
   "cell_type": "code",
   "execution_count": 35,
   "metadata": {},
   "outputs": [
    {
     "name": "stdout",
     "output_type": "stream",
     "text": [
      "Greedy agent cummulative reward = 88377.80135510427\n",
      "RL agent cummulative reward = 90410.8777750346\n"
     ]
    }
   ],
   "source": [
    "print(f\"Greedy agent cummulative reward = {validate(env, greedy_agent)}\")\n",
    "print(f\"RL agent cummulative reward = {validate(env, rl_agent)}\")"
   ]
  },
  {
   "cell_type": "markdown",
   "metadata": {},
   "source": [
    "## Explanation:\n",
    "\n",
    "Clearly, greedy policy maximises reward only on one step, thus potentially acting suboptimally on the next one, while RL algorithm can learn optimal policy for both steps. "
   ]
  },
  {
   "cell_type": "code",
   "execution_count": null,
   "metadata": {},
   "outputs": [],
   "source": []
  },
  {
   "cell_type": "code",
   "execution_count": null,
   "metadata": {},
   "outputs": [],
   "source": []
  }
 ],
 "metadata": {
  "kernelspec": {
   "display_name": "Python 3",
   "language": "python",
   "name": "python3"
  },
  "language_info": {
   "codemirror_mode": {
    "name": "ipython",
    "version": 3
   },
   "file_extension": ".py",
   "mimetype": "text/x-python",
   "name": "python",
   "nbconvert_exporter": "python",
   "pygments_lexer": "ipython3",
   "version": "3.8.5"
  }
 },
 "nbformat": 4,
 "nbformat_minor": 4
}
